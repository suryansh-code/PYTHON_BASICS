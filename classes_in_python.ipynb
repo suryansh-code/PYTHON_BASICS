{
 "cells": [
  {
   "cell_type": "code",
   "execution_count": 3,
   "metadata": {},
   "outputs": [
    {
     "name": "stdout",
     "output_type": "stream",
     "text": [
      "this is item biscuit\n"
     ]
    }
   ],
   "source": [
    "# the basic programe to create a object and a method\n",
    "\n",
    "class Item:\n",
    "    def biscuit(self):  #this is a method\n",
    "         print(\"this is item biscuit\")\n",
    "            \n",
    "# creating the object of this class    \n",
    "item1=Item()\n",
    "\n",
    "#calling the method by using objects\n",
    "item1.biscuit()\n",
    "\n",
    "\n"
   ]
  },
  {
   "cell_type": "code",
   "execution_count": 1,
   "metadata": {},
   "outputs": [
    {
     "data": {
      "text/plain": [
       "25"
      ]
     },
     "execution_count": 1,
     "metadata": {},
     "output_type": "execute_result"
    }
   ],
   "source": [
    "# a method which return a value\n",
    "\n",
    "class Add:\n",
    "    def add(self,x,y):\n",
    "        return x+y\n",
    "    \n",
    "add1=Add()\n",
    "add1.add(12,13)"
   ]
  },
  {
   "cell_type": "code",
   "execution_count": 2,
   "metadata": {},
   "outputs": [
    {
     "name": "stdout",
     "output_type": "stream",
     "text": [
      "suryansh\n"
     ]
    }
   ],
   "source": [
    "# the use of the __init__ method/function\n",
    "\n",
    "class Human:\n",
    "    def __init__(self,name):\n",
    "        self.name=name\n",
    "        print(name)\n",
    "        \n",
    "h=Human(\"suryansh\")"
   ]
  },
  {
   "cell_type": "code",
   "execution_count": 5,
   "metadata": {},
   "outputs": [
    {
     "name": "stdout",
     "output_type": "stream",
     "text": [
      "('atlas', 1234, 112211)\n",
      "('macg', 1333, 123123)\n"
     ]
    }
   ],
   "source": [
    "#giving a printing multiple value to the objects\n",
    "\n",
    "class Robot:\n",
    "    def __init__(self,name,age,version):\n",
    "        self.name=name\n",
    "        self.age=age\n",
    "        self.version=version\n",
    "        \n",
    "    def get_data(self):\n",
    "        return self.name,self.age,self.version\n",
    "\n",
    "r1=Robot(\"atlas\",1234,112211)\n",
    "r2=Robot(\"macg\",1333,123123)\n",
    "\n",
    "print(r1.get_data())\n",
    "print(r2.get_data())\n",
    "\n"
   ]
  },
  {
   "cell_type": "code",
   "execution_count": 7,
   "metadata": {},
   "outputs": [
    {
     "name": "stdout",
     "output_type": "stream",
     "text": [
      "suryansh\n"
     ]
    }
   ],
   "source": [
    "# assigning the values in the \n",
    "class Game:\n",
    "    def assign(self,name):\n",
    "        self.name=name\n",
    "\n",
    "g1=Game()\n",
    "g1.assign(\"suryansh\")\n",
    "\n",
    "print(g1.name)"
   ]
  },
  {
   "cell_type": "code",
   "execution_count": 9,
   "metadata": {},
   "outputs": [
    {
     "name": "stdout",
     "output_type": "stream",
     "text": [
      "49.5\n"
     ]
    }
   ],
   "source": [
    "# the concept of multiple classes,passing instenses as a list\n",
    "class Student:\n",
    "    def __init__(self,name,age,grade):\n",
    "        self.name=name\n",
    "        self.age=age\n",
    "        self.grade=grade\n",
    "        \n",
    "    def get_grade(self):\n",
    "        return self.grade\n",
    "     \n",
    "class Course:\n",
    "    def __init__(self,name,max_students):\n",
    "        self.name=name\n",
    "        self.max_students=max_students\n",
    "        self.students=[]\n",
    "        self.is_active=False\n",
    "\n",
    "    def add_student(self,student):\n",
    "        if len(self.students)<self.max_students:\n",
    "            self.students.append(student)\n",
    "            return True\n",
    "        return False\n",
    "    \n",
    "    def get_average(self):\n",
    "        value=0\n",
    "        for student in self.students:\n",
    "            value += student.get_grade()\n",
    "            \n",
    "            return value/len(self.students)\n",
    "            \n",
    "s1=Student(\"suryansh\",15,99)\n",
    "s2=Student(\"saumil\",16,100)\n",
    "s3=Student(\"gaurav\",19,75)\n",
    "s4=Student(\"vimal\",18,67)\n",
    "\n",
    "course=Course(\"science\",2)\n",
    "course.add_student(s1)\n",
    "course.add_student(s2)\n",
    "\n",
    "print(course.get_average())"
   ]
  },
  {
   "cell_type": "code",
   "execution_count": 2,
   "metadata": {},
   "outputs": [
    {
     "name": "stdout",
     "output_type": "stream",
     "text": [
      "i am billy and my age is 12\n",
      "meow\n",
      "i am dark and my age is 13\n",
      "bark\n"
     ]
    }
   ],
   "source": [
    " #inheritance\n",
    "class pet:\n",
    "    def __init__(self,name,age):\n",
    "        self.name=name\n",
    "        self.age=age\n",
    "    \n",
    "    def show(self):\n",
    "        print(f\"i am {self.name} and my age is {self.age}\")\n",
    "\n",
    "class cat(pet):\n",
    "    def speak(self):\n",
    "              print(\"meow\")\n",
    "\n",
    "class dog(pet):\n",
    "    def speak(Self):\n",
    "              print(\"bark\")\n",
    "              \n",
    "\n",
    "c=cat(\"billy\",12)\n",
    "c.show()\n",
    "c.speak()\n",
    "\n",
    "d=dog(\"dark\",13)\n",
    "d.show()\n",
    "d.speak()"
   ]
  },
  {
   "cell_type": "code",
   "execution_count": 5,
   "metadata": {},
   "outputs": [
    {
     "name": "stdout",
     "output_type": "stream",
     "text": [
      "i am bil my age is 23 and my colour is white\n",
      "i am dark my age is 12 and my colour is black\n",
      "i am monkry and my age is 12\n"
     ]
    }
   ],
   "source": [
    "# calling of a methods inside the child class frim the parent class using \"Siper()\"\n",
    "class pet:\n",
    "    def __init__(self,name,age):\n",
    "        self.name=name\n",
    "        self.age=age\n",
    "    \n",
    "    def show(self):\n",
    "        print(f\"i am {self.name} and my age is {self.age}\")\n",
    "\n",
    "class cat(pet):\n",
    "    def __init__(self,name,age,color):\n",
    "        super().__init__(name,age)\n",
    "        self.color=color\n",
    "        \n",
    "    def show(self):\n",
    "        print(f\"i am {self.name} my age is {self.age} and my colour is {self.color}\")\n",
    "    \n",
    "    def speak(self):\n",
    "        print(\"meow\")\n",
    "\n",
    "class dog(pet):\n",
    "    def __init__(self,name,age,color):\n",
    "        super().__init__(name,age)\n",
    "        self.color=color\n",
    "        \n",
    "    def show(self):\n",
    "        print(f\"i am {self.name} my age is {self.age} and my colour is {self.color}\")\n",
    "    \n",
    "    \n",
    "    def speak(Self):\n",
    "        print(\"bark\")\n",
    "              \n",
    "c=cat(\"bil\",23,\"white\")\n",
    "d=dog(\"dark\",12,\"black\")\n",
    "c.show()\n",
    "d.show()\n",
    "p=pet(\"monkry\",12)\n",
    "p.show()"
   ]
  },
  {
   "cell_type": "code",
   "execution_count": 7,
   "metadata": {},
   "outputs": [
    {
     "name": "stdout",
     "output_type": "stream",
     "text": [
      "8\n",
      "8\n"
     ]
    }
   ],
   "source": [
    "#class atributes\n",
    "class Person:\n",
    "    number_of_people=0\n",
    "    \n",
    "    def __init__(self,name):\n",
    "        self.name=name\n",
    "p1=Person(\"suryansh\")\n",
    "p2=Person(\"saumil\")\n",
    "\n",
    "Person.number_of_people = 8\n",
    "\n",
    "print(p2.number_of_people)\n",
    "print(p1.number_of_people)  "
   ]
  },
  {
   "cell_type": "code",
   "execution_count": 8,
   "metadata": {},
   "outputs": [
    {
     "name": "stdout",
     "output_type": "stream",
     "text": [
      "17\n",
      "15\n",
      "done\n"
     ]
    }
   ],
   "source": [
    "#static methods'\n",
    "class Math:\n",
    "    \n",
    "    @staticmethod\n",
    "    def add(x):\n",
    "        return x+5\n",
    "    \n",
    "    @staticmethod\n",
    "    def add2(x):\n",
    "        return x+2\n",
    "    \n",
    "    @staticmethod\n",
    "    def pre():\n",
    "        print(\"done\")\n",
    "        \n",
    "print(Math.add(12))\n",
    "print(Math.add2(13))\n",
    "Math.pre()"
   ]
  },
  {
   "cell_type": "code",
   "execution_count": 2,
   "metadata": {},
   "outputs": [
    {
     "name": "stdout",
     "output_type": "stream",
     "text": [
      "[1, 2, 3, 4, 5, 6, 7, 8, 9, 10]\n"
     ]
    }
   ],
   "source": [
    "#comprehensions in python\n",
    "# three type of comprehension\n",
    "# list comprehension\n",
    "# tuple comprehension\n",
    "# set comprehension\n",
    "\n",
    "#1.how to copy elent of one list to the second list\n",
    "nums=[1,2,3,4,5,6,7,8,9,10]\n",
    "\n",
    "my_list = []\n",
    "for n in nums:\n",
    "    my_list.append(n)\n",
    "    \n",
    "print (my_list)"
   ]
  },
  {
   "cell_type": "code",
   "execution_count": 3,
   "metadata": {},
   "outputs": [
    {
     "name": "stdout",
     "output_type": "stream",
     "text": [
      "[1, 4, 9, 16, 25, 36, 49, 64, 81, 100]\n"
     ]
    }
   ],
   "source": [
    "#2. append the square of one list to the second list\n",
    "\n",
    "my_list = []\n",
    "for n in nums:\n",
    "    my_list.append(n*n)\n",
    "    \n",
    "print(my_list)"
   ]
  },
  {
   "cell_type": "code",
   "execution_count": 4,
   "metadata": {},
   "outputs": [
    {
     "name": "stdout",
     "output_type": "stream",
     "text": [
      "[1, 4, 9, 16, 25, 36, 49, 64, 81, 100]\n"
     ]
    }
   ],
   "source": [
    "#3. sort the list\n",
    "my_list.sort()\n",
    "print(my_list)\n"
   ]
  },
  {
   "cell_type": "code",
   "execution_count": 5,
   "metadata": {},
   "outputs": [
    {
     "name": "stdout",
     "output_type": "stream",
     "text": [
      "enter the stringsuryansh\n",
      "['s', 'u', 'r', 'y', 'a', 'n', 's', 'h']\n"
     ]
    }
   ],
   "source": [
    "#4.write a programe to take string input and append in a lsit\n",
    "\n",
    "name=str(input(\"enter the string\"))\n",
    "my_lst=[]\n",
    "\n",
    "for x in name:\n",
    "    my_lst.append(x)\n",
    "    \n",
    "print(my_lst)"
   ]
  },
  {
   "cell_type": "code",
   "execution_count": 6,
   "metadata": {},
   "outputs": [
    {
     "name": "stdout",
     "output_type": "stream",
     "text": [
      "['s', 'u', 'r', 'y', 'a', 'n', 's', 'h']\n"
     ]
    }
   ],
   "source": [
    "#5. use the concept of list comprehensionin 1 line\n",
    "my_lst=[x for x in \"suryansh\"]\n",
    "print(my_lst)"
   ]
  },
  {
   "cell_type": "code",
   "execution_count": 11,
   "metadata": {},
   "outputs": [
    {
     "name": "stdout",
     "output_type": "stream",
     "text": [
      "time taken for loop: 0.41202497482299805\n",
      "time taken for loop: 0.3545570373535156\n"
     ]
    }
   ],
   "source": [
    "#6. use the time module to check the time required by both the loops\n",
    "import time\n",
    "\n",
    "\n",
    "# first by using for loops\n",
    "def for_loop(n):\n",
    "    result=[]\n",
    "    for i in range (n):\n",
    "        result.append(i**2)\n",
    "    return result\n",
    "\n",
    "def list_c(n):\n",
    "    return[i**2 for i in range(n)]\n",
    "\n",
    "begin=time.time()\n",
    "for_loop(10**6)\n",
    "end=time.time()\n",
    "\n",
    "print(\"time taken for loop:\",(end-begin))\n",
    "\n",
    "\n",
    "begin=time.time()\n",
    "list_c(10**6)\n",
    "end=time.time()\n",
    "\n",
    "print(\"time taken for loop:\",(end-begin))\n"
   ]
  },
  {
   "cell_type": "code",
   "execution_count": 13,
   "metadata": {},
   "outputs": [
    {
     "name": "stdout",
     "output_type": "stream",
     "text": [
      "[[0, 1, 2, 3, 4], [0, 1, 2, 3, 4], [0, 1, 2, 3, 4]]\n"
     ]
    }
   ],
   "source": [
    "#nested list comprehension\n",
    "# by using for loops\n",
    "\n",
    "lst1=[]\n",
    "\n",
    "for i in range(3):\n",
    "    lst1.append([])\n",
    "    \n",
    "    for j in range(5):\n",
    "        lst1[i].append(j)\n",
    "        \n",
    "print(lst1)"
   ]
  },
  {
   "cell_type": "code",
   "execution_count": 14,
   "metadata": {},
   "outputs": [
    {
     "name": "stdout",
     "output_type": "stream",
     "text": [
      "[[0, 1, 2], [0, 1, 2], [0, 1, 2]]\n"
     ]
    }
   ],
   "source": [
    "#nested list comprehension\n",
    "#by using list comprehension\n",
    "\n",
    "my_lst=[[x for x in range(3)] for i in range(3)]\n",
    "\n",
    "print(my_lst)"
   ]
  },
  {
   "cell_type": "code",
   "execution_count": 15,
   "metadata": {},
   "outputs": [
    {
     "name": "stdout",
     "output_type": "stream",
     "text": [
      "[1, 4, 27, 256, 3125]\n"
     ]
    }
   ],
   "source": [
    "#using loops\n",
    "number=[]\n",
    "\n",
    "for i in range(1,6):\n",
    "    number.append(i**i)\n",
    "\n",
    "print(number)"
   ]
  },
  {
   "cell_type": "code",
   "execution_count": 16,
   "metadata": {},
   "outputs": [
    {
     "name": "stdout",
     "output_type": "stream",
     "text": [
      "[1, 4, 27, 256, 3125]\n"
     ]
    }
   ],
   "source": [
    "#using list comprehension\n",
    "lst3=[x**x for x in range(1,6)]\n",
    "print(lst3)"
   ]
  },
  {
   "cell_type": "code",
   "execution_count": 17,
   "metadata": {},
   "outputs": [
    {
     "name": "stdout",
     "output_type": "stream",
     "text": [
      "[0, 2, 4, 6, 8]\n"
     ]
    }
   ],
   "source": [
    "# print the even number from the range\n",
    "#using while loop\n",
    "\n",
    "lst=[]\n",
    "\n",
    "for i in range(0,10):\n",
    "    if(i%2==0):\n",
    "        lst.append(i)\n",
    "\n",
    "print(lst)"
   ]
  },
  {
   "cell_type": "code",
   "execution_count": 19,
   "metadata": {},
   "outputs": [
    {
     "name": "stdout",
     "output_type": "stream",
     "text": [
      "[0, 2, 4, 6, 8]\n"
     ]
    }
   ],
   "source": [
    "lst4=[i for i in range(0,10) if i%2==0]\n",
    "print(lst4)"
   ]
  },
  {
   "cell_type": "code",
   "execution_count": null,
   "metadata": {},
   "outputs": [],
   "source": []
  }
 ],
 "metadata": {
  "kernelspec": {
   "display_name": "Python 3",
   "language": "python",
   "name": "python3"
  },
  "language_info": {
   "codemirror_mode": {
    "name": "ipython",
    "version": 3
   },
   "file_extension": ".py",
   "mimetype": "text/x-python",
   "name": "python",
   "nbconvert_exporter": "python",
   "pygments_lexer": "ipython3",
   "version": "3.8.5"
  }
 },
 "nbformat": 4,
 "nbformat_minor": 4
}
